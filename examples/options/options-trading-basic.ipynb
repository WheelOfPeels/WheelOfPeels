{
  "cells": [
    {
      "cell_type": "markdown",
      "metadata": {
        "id": "JlJEOyEspCmr"
      },
      "source": [
        "# Alpaca-py options trading basic"
      ]
    },
    {
      "cell_type": "markdown",
      "metadata": {
        "id": "LOpHXCaopCmt"
      },
      "source": [
        "[![Open In Colab](https://colab.research.google.com/assets/colab-badge.svg)](https://colab.research.google.com/github/alpacahq/alpaca-py/blob/master/examples/options/options-trading-basic.ipynb)"
      ]
    },
    {
      "cell_type": "markdown",
      "metadata": {
        "id": "o2qgdmVapCmt"
      },
      "source": [
        "- This notebook shows how to use alpaca-py with options trading API endpoints\n",
        "- Please use ``paper account``. Please ``DO NOT`` use this notebook with live account. In this notebook, we place orders for options as an example."
      ]
    },
    {
      "cell_type": "code",
      "execution_count": 57,
      "metadata": {
        "id": "O3CTZeUepCmu"
      },
      "outputs": [],
      "source": [
        "# Please change the following to your own PAPER api key and secret\n",
        "# or set them as environment variables (ALPACA_API_KEY, ALPACA_SECRET_KEY).\n",
        "# You can get them from https://alpaca.markets/\n",
        "\n",
        "api_key = \"PK2J1QPDWL4V4AZ7GSDJ\"\n",
        "secret_key = \"sSoyyEurTAgs8BoOcxbOBoEmDbX5yHx1Qse6PrBJ\"\n",
        "\n",
        "#### We use paper environment for this example ####\n",
        "paper = True # Please do not modify this. This example is for paper trading only.\n",
        "####\n",
        "\n",
        "# Below are the variables for development this documents\n",
        "# Please do not change these variables\n",
        "\n",
        "trade_api_url = None\n",
        "trade_api_wss = None\n",
        "data_api_url = None\n",
        "option_stream_data_wss = None"
      ]
    },
    {
      "cell_type": "code",
      "execution_count": 58,
      "metadata": {
        "id": "Cscn7AX6pCmv"
      },
      "outputs": [],
      "source": [
        "import os\n",
        "\n",
        "if api_key is None:\n",
        "    api_key = os.environ.get('ALPACA_API_KEY')\n",
        "\n",
        "if secret_key is None:\n",
        "    secret_key = os.environ.get('ALPACA_SECRET_KEY')"
      ]
    },
    {
      "cell_type": "code",
      "execution_count": 59,
      "metadata": {
        "id": "AHKIOIMlpCmv"
      },
      "outputs": [],
      "source": [
        "# install alpaca-py if it is not available\n",
        "try:\n",
        "    import alpaca\n",
        "except ImportError:\n",
        "    !python3 -m pip install alpaca-py\n",
        "    import alpaca"
      ]
    },
    {
      "cell_type": "code",
      "execution_count": 60,
      "metadata": {
        "id": "wTC6UD8LpCmv"
      },
      "outputs": [],
      "source": [
        "import json\n",
        "from datetime import datetime, timedelta\n",
        "from zoneinfo import ZoneInfo\n",
        "\n",
        "from alpaca.trading.client import TradingClient\n",
        "from alpaca.data.timeframe import TimeFrame, TimeFrameUnit\n",
        "from alpaca.data.historical.option import OptionHistoricalDataClient\n",
        "from alpaca.trading.stream import TradingStream\n",
        "from alpaca.data.live.option import OptionDataStream\n",
        "\n",
        "from alpaca.data.requests import (\n",
        "    OptionBarsRequest,\n",
        "    OptionTradesRequest,\n",
        "    OptionLatestQuoteRequest,\n",
        "    OptionLatestTradeRequest,\n",
        "    OptionSnapshotRequest,\n",
        "    OptionChainRequest\n",
        ")\n",
        "from alpaca.trading.requests import (\n",
        "    GetOptionContractsRequest,\n",
        "    GetAssetsRequest,\n",
        "    MarketOrderRequest,\n",
        "    GetOrdersRequest,\n",
        "    ClosePositionRequest\n",
        ")\n",
        "from alpaca.trading.enums import (\n",
        "    AssetStatus,\n",
        "    ExerciseStyle,\n",
        "    OrderSide,\n",
        "    OrderType,\n",
        "    TimeInForce,\n",
        "    QueryOrderStatus\n",
        ")\n",
        "from alpaca.common.exceptions import APIError"
      ]
    },
    {
      "cell_type": "code",
      "execution_count": 61,
      "metadata": {
        "id": "1kzBUrELpCmv"
      },
      "outputs": [],
      "source": [
        "# to run async code in jupyter notebook\n",
        "import nest_asyncio\n",
        "nest_asyncio.apply()"
      ]
    },
    {
      "cell_type": "code",
      "execution_count": 62,
      "metadata": {
        "colab": {
          "base_uri": "https://localhost:8080/",
          "height": 35
        },
        "id": "YrHldiiCpCmw",
        "outputId": "e98c379a-cbdb-4a49-d0e5-c239cc84ac14"
      },
      "outputs": [
        {
          "output_type": "execute_result",
          "data": {
            "text/plain": [
              "'0.42.0'"
            ],
            "application/vnd.google.colaboratory.intrinsic+json": {
              "type": "string"
            }
          },
          "metadata": {},
          "execution_count": 62
        }
      ],
      "source": [
        "# check version of alpaca-py\n",
        "alpaca.__version__"
      ]
    },
    {
      "cell_type": "markdown",
      "metadata": {
        "id": "V9gauPzbpCmw"
      },
      "source": [
        "# Trading Client"
      ]
    },
    {
      "cell_type": "code",
      "execution_count": 63,
      "metadata": {
        "id": "qRcJFSvppCmw"
      },
      "outputs": [],
      "source": [
        "# setup clients\n",
        "trade_client = TradingClient(api_key=api_key, secret_key=secret_key, paper=paper, url_override=trade_api_url)"
      ]
    },
    {
      "cell_type": "code",
      "execution_count": 64,
      "metadata": {
        "colab": {
          "base_uri": "https://localhost:8080/"
        },
        "id": "7Op0RX7mpCmw",
        "outputId": "ed036eaf-e1ef-41e0-e7c5-53abbd24eb76"
      },
      "outputs": [
        {
          "output_type": "execute_result",
          "data": {
            "text/plain": [
              "{   'account_blocked': False,\n",
              "    'account_number': 'PA3EYHMQ636L',\n",
              "    'accrued_fees': '0',\n",
              "    'buying_power': '199985.88',\n",
              "    'cash': '99992.94',\n",
              "    'created_at': datetime.datetime(2025, 7, 11, 16, 17, 14, 187954, tzinfo=TzInfo(UTC)),\n",
              "    'crypto_status': <AccountStatus.ACTIVE: 'ACTIVE'>,\n",
              "    'currency': 'USD',\n",
              "    'daytrade_count': 1,\n",
              "    'daytrading_buying_power': '0',\n",
              "    'equity': '99997.94',\n",
              "    'id': UUID('f87d492e-df21-4004-bc91-f60d774c94f5'),\n",
              "    'initial_margin': '0',\n",
              "    'last_equity': '100000',\n",
              "    'last_maintenance_margin': '0',\n",
              "    'long_market_value': '5',\n",
              "    'maintenance_margin': '0',\n",
              "    'multiplier': '2',\n",
              "    'non_marginable_buying_power': '99992.94',\n",
              "    'options_approved_level': 3,\n",
              "    'options_buying_power': '99992.94',\n",
              "    'options_trading_level': 3,\n",
              "    'pattern_day_trader': False,\n",
              "    'pending_transfer_in': None,\n",
              "    'pending_transfer_out': None,\n",
              "    'portfolio_value': '99997.94',\n",
              "    'regt_buying_power': '199985.88',\n",
              "    'short_market_value': '0',\n",
              "    'shorting_enabled': True,\n",
              "    'sma': '0',\n",
              "    'status': <AccountStatus.ACTIVE: 'ACTIVE'>,\n",
              "    'trade_suspended_by_user': False,\n",
              "    'trading_blocked': False,\n",
              "    'transfers_blocked': False}"
            ]
          },
          "metadata": {},
          "execution_count": 64
        }
      ],
      "source": [
        "# check trading account\n",
        "# There are trhee new columns in the account object:\n",
        "# - options_buying_power\n",
        "# - options_approved_level\n",
        "# - options_trading_level\n",
        "acct = trade_client.get_account()\n",
        "acct"
      ]
    },
    {
      "cell_type": "code",
      "execution_count": 65,
      "metadata": {
        "colab": {
          "base_uri": "https://localhost:8080/"
        },
        "id": "zr9_V88LpCmw",
        "outputId": "4f27f127-ff29-4661-8c47-b1da8397d974"
      },
      "outputs": [
        {
          "output_type": "execute_result",
          "data": {
            "text/plain": [
              "{   'dtbp_check': <DTBPCheck.ENTRY: 'entry'>,\n",
              "    'fractional_trading': True,\n",
              "    'max_margin_multiplier': '4',\n",
              "    'max_options_trading_level': None,\n",
              "    'no_shorting': False,\n",
              "    'pdt_check': <PDTCheck.ENTRY: 'entry'>,\n",
              "    'ptp_no_exception_entry': False,\n",
              "    'suspend_trade': False,\n",
              "    'trade_confirm_email': <TradeConfirmationEmail.ALL: 'all'>}"
            ]
          },
          "metadata": {},
          "execution_count": 65
        }
      ],
      "source": [
        "# check account configuration\n",
        "# - we have new field `max_options_trading_level`\n",
        "acct_config = trade_client.get_account_configurations()\n",
        "acct_config"
      ]
    },
    {
      "cell_type": "code",
      "execution_count": 66,
      "metadata": {
        "colab": {
          "base_uri": "https://localhost:8080/"
        },
        "id": "MCzNTOEZpCmx",
        "outputId": "1bf556ac-bb8c-41c0-bf41-62aaea5b7257"
      },
      "outputs": [
        {
          "output_type": "execute_result",
          "data": {
            "text/plain": [
              "[{   'asset_class': <AssetClass.US_EQUITY: 'us_equity'>,\n",
              "     'attributes': ['fractional_eh_enabled', 'has_options'],\n",
              "     'easy_to_borrow': False,\n",
              "     'exchange': <AssetExchange.OTC: 'OTC'>,\n",
              "     'fractionable': True,\n",
              "     'id': UUID('fffd740c-a686-4fa2-87a6-545d7da617b4'),\n",
              "     'maintenance_margin_requirement': 100.0,\n",
              "     'marginable': False,\n",
              "     'min_order_size': None,\n",
              "     'min_trade_increment': None,\n",
              "     'name': 'NIKOLA CORP COM NEW',\n",
              "     'price_increment': None,\n",
              "     'shortable': False,\n",
              "     'status': <AssetStatus.ACTIVE: 'active'>,\n",
              "     'symbol': 'NKLAQ',\n",
              "     'tradable': False},\n",
              " {   'asset_class': <AssetClass.US_EQUITY: 'us_equity'>,\n",
              "     'attributes': ['has_options'],\n",
              "     'easy_to_borrow': False,\n",
              "     'exchange': <AssetExchange.OTC: 'OTC'>,\n",
              "     'fractionable': False,\n",
              "     'id': UUID('7ed25e8e-ab7e-4c5d-ba9f-8637a7e5f54f'),\n",
              "     'maintenance_margin_requirement': 100.0,\n",
              "     'marginable': False,\n",
              "     'min_order_size': None,\n",
              "     'min_trade_increment': None,\n",
              "     'name': 'ENGLOBAL CORP Common Stock',\n",
              "     'price_increment': None,\n",
              "     'shortable': False,\n",
              "     'status': <AssetStatus.ACTIVE: 'active'>,\n",
              "     'symbol': 'ENGCQ',\n",
              "     'tradable': False}]"
            ]
          },
          "metadata": {},
          "execution_count": 66
        }
      ],
      "source": [
        "# get list of assets which are options enabled\n",
        "# - we can filter assets by `options_enabled` attribute\n",
        "# - asset object has `options_enabled` attribute if it is options enabled\n",
        "req = GetAssetsRequest(\n",
        "  attributes = \"options_enabled\"\n",
        ")\n",
        "assets = trade_client.get_all_assets(req)\n",
        "assets[:2]"
      ]
    },
    {
      "cell_type": "code",
      "execution_count": 67,
      "metadata": {
        "colab": {
          "base_uri": "https://localhost:8080/"
        },
        "id": "FeMz5dDipCmx",
        "outputId": "2cac119c-0d4a-45fa-e9e6-a0bdbe2cbc59"
      },
      "outputs": [
        {
          "output_type": "execute_result",
          "data": {
            "text/plain": [
              "{   'next_page_token': 'Mg==',\n",
              "    'option_contracts': [   {   'close_price': '102.9',\n",
              "                                'close_price_date': datetime.date(2025, 7, 10),\n",
              "                                'expiration_date': datetime.date(2025, 7, 11),\n",
              "                                'id': '93403446-9372-4f2e-a589-7bf9f95547b1',\n",
              "                                'name': 'AAPL Jul 11 2025 110 Call',\n",
              "                                'open_interest': '130',\n",
              "                                'open_interest_date': datetime.date(2025, 7, 9),\n",
              "                                'root_symbol': 'AAPL',\n",
              "                                'size': '100',\n",
              "                                'status': <AssetStatus.ACTIVE: 'active'>,\n",
              "                                'strike_price': 110.0,\n",
              "                                'style': <ExerciseStyle.AMERICAN: 'american'>,\n",
              "                                'symbol': 'AAPL250711C00110000',\n",
              "                                'tradable': True,\n",
              "                                'type': <ContractType.CALL: 'call'>,\n",
              "                                'underlying_asset_id': UUID('b0b6dd9d-8b9b-48a9-ba46-b9d54906e415'),\n",
              "                                'underlying_symbol': 'AAPL'},\n",
              "                            {   'close_price': '93.55',\n",
              "                                'close_price_date': datetime.date(2025, 7, 3),\n",
              "                                'expiration_date': datetime.date(2025, 7, 11),\n",
              "                                'id': 'a67c15a3-871e-465a-86bd-77028a2d2196',\n",
              "                                'name': 'AAPL Jul 11 2025 120 Call',\n",
              "                                'open_interest': '7',\n",
              "                                'open_interest_date': datetime.date(2025, 7, 9),\n",
              "                                'root_symbol': 'AAPL',\n",
              "                                'size': '100',\n",
              "                                'status': <AssetStatus.ACTIVE: 'active'>,\n",
              "                                'strike_price': 120.0,\n",
              "                                'style': <ExerciseStyle.AMERICAN: 'american'>,\n",
              "                                'symbol': 'AAPL250711C00120000',\n",
              "                                'tradable': True,\n",
              "                                'type': <ContractType.CALL: 'call'>,\n",
              "                                'underlying_asset_id': UUID('b0b6dd9d-8b9b-48a9-ba46-b9d54906e415'),\n",
              "                                'underlying_symbol': 'AAPL'}]}"
            ]
          },
          "metadata": {},
          "execution_count": 67
        }
      ],
      "source": [
        "# get list of options contracts for the given underlying symbol (e.g. SPY,AAPL)\n",
        "# - get_option_contracts() is a new method to get list of options contracts\n",
        "# - in this example, we get 2 options contracts for SPY,AAPL\n",
        "# - you can continue to fetch options contracts by specifying page_token from next_page_token of response\n",
        "underlying_symbols = [\"SPY\", \"AAPL\"]\n",
        "req = GetOptionContractsRequest(\n",
        "    underlying_symbols = underlying_symbols,               # specify underlying symbols\n",
        "    status = AssetStatus.ACTIVE,                           # specify asset status: active (default)\n",
        "    expiration_date = None,                                # specify expiration date (specified date + 1 day range)\n",
        "    expiration_date_gte = None,                            # we can pass date object\n",
        "    expiration_date_lte = None,                            # or string (YYYY-MM-DD)\n",
        "    root_symbol = None,                                    # specify root symbol\n",
        "    type = None,                                           # specify option type (ContractType.CALL or ContractType.PUT)\n",
        "    style = None,                                          # specify option style (ContractStyle.AMERICAN or ContractStyle.EUROPEAN)\n",
        "    strike_price_gte = None,                               # specify strike price range\n",
        "    strike_price_lte = None,                               # specify strike price range\n",
        "    limit = 2,                                             # specify limit\n",
        "    page_token = None,                                     # specify page token\n",
        ")\n",
        "res = trade_client.get_option_contracts(req)\n",
        "res"
      ]
    },
    {
      "cell_type": "code",
      "execution_count": 68,
      "metadata": {
        "colab": {
          "base_uri": "https://localhost:8080/",
          "height": 625
        },
        "id": "YBgPosv-pCmx",
        "outputId": "567812b5-b268-49bb-d8f2-49cabb44e897"
      },
      "outputs": [
        {
          "output_type": "display_data",
          "data": {
            "text/plain": [
              "{   'next_page_token': 'NA==',\n",
              "    'option_contracts': [   {   'close_price': None,\n",
              "                                'close_price_date': None,\n",
              "                                'expiration_date': datetime.date(2025, 7, 11),\n",
              "                                'id': '902cd67e-bbe8-4fb7-a0cb-05c7bea5caae',\n",
              "                                'name': 'AAPL Jul 11 2025 125 Call',\n",
              "                                'open_interest': None,\n",
              "                                'open_interest_date': None,\n",
              "                                'root_symbol': 'AAPL',\n",
              "                                'size': '100',\n",
              "                                'status': <AssetStatus.ACTIVE: 'active'>,\n",
              "                                'strike_price': 125.0,\n",
              "                                'style': <ExerciseStyle.AMERICAN: 'american'>,\n",
              "                                'symbol': 'AAPL250711C00125000',\n",
              "                                'tradable': True,\n",
              "                                'type': <ContractType.CALL: 'call'>,\n",
              "                                'underlying_asset_id': UUID('b0b6dd9d-8b9b-48a9-ba46-b9d54906e415'),\n",
              "                                'underlying_symbol': 'AAPL'},\n",
              "                            {   'close_price': '67.25',\n",
              "                                'close_price_date': datetime.date(2025, 6, 16),\n",
              "                                'expiration_date': datetime.date(2025, 7, 11),\n",
              "                                'id': '84349bfc-64c1-4009-a775-8fe73d216018',\n",
              "                                'name': 'AAPL Jul 11 2025 130 Call',\n",
              "                                'open_interest': '4',\n",
              "                                'open_interest_date': datetime.date(2025, 7, 9),\n",
              "                                'root_symbol': 'AAPL',\n",
              "                                'size': '100',\n",
              "                                'status': <AssetStatus.ACTIVE: 'active'>,\n",
              "                                'strike_price': 130.0,\n",
              "                                'style': <ExerciseStyle.AMERICAN: 'american'>,\n",
              "                                'symbol': 'AAPL250711C00130000',\n",
              "                                'tradable': True,\n",
              "                                'type': <ContractType.CALL: 'call'>,\n",
              "                                'underlying_asset_id': UUID('b0b6dd9d-8b9b-48a9-ba46-b9d54906e415'),\n",
              "                                'underlying_symbol': 'AAPL'}]}"
            ]
          },
          "metadata": {}
        }
      ],
      "source": [
        "# continue to fetch option contracts if there is next_page_token in response\n",
        "if res.next_page_token is not None:\n",
        "    req = GetOptionContractsRequest(\n",
        "        underlying_symbols = underlying_symbols,               # specify underlying symbols\n",
        "        status = AssetStatus.ACTIVE,                           # specify asset status: active (default)\n",
        "        expiration_date = None,                                # specify expiration date (specified date + 1 day range)\n",
        "        expiration_date_gte = None,                            # we can pass date object\n",
        "        expiration_date_lte = None,                            # or string (YYYY-MM-DD)\n",
        "        root_symbol = None,                                    # specify root symbol\n",
        "        type = None,                                           # specify option type (ContractType.CALL or ContractType.PUT)\n",
        "        style = None,                                          # specify option style (ContractStyle.AMERICAN or ContractStyle.EUROPEAN)\n",
        "        strike_price_gte = None,                               # specify strike price range\n",
        "        strike_price_lte = None,                               # specify strike price range\n",
        "        limit = 2,                                             # specify limit\n",
        "        page_token = res.next_page_token,                      # specify page token\n",
        "    )\n",
        "    res = trade_client.get_option_contracts(req)\n",
        "    display(res)"
      ]
    },
    {
      "cell_type": "code",
      "execution_count": 69,
      "metadata": {
        "colab": {
          "base_uri": "https://localhost:8080/"
        },
        "id": "RAqtvcw0pCmx",
        "outputId": "40283b3c-11ab-44ab-9c30-e91b770a6ab8"
      },
      "outputs": [
        {
          "output_type": "execute_result",
          "data": {
            "text/plain": [
              "{   'close_price': None,\n",
              "    'close_price_date': None,\n",
              "    'expiration_date': datetime.date(2025, 7, 11),\n",
              "    'id': '902cd67e-bbe8-4fb7-a0cb-05c7bea5caae',\n",
              "    'name': 'AAPL Jul 11 2025 125 Call',\n",
              "    'open_interest': None,\n",
              "    'open_interest_date': None,\n",
              "    'root_symbol': 'AAPL',\n",
              "    'size': '100',\n",
              "    'status': <AssetStatus.ACTIVE: 'active'>,\n",
              "    'strike_price': 125.0,\n",
              "    'style': <ExerciseStyle.AMERICAN: 'american'>,\n",
              "    'symbol': 'AAPL250711C00125000',\n",
              "    'tradable': True,\n",
              "    'type': <ContractType.CALL: 'call'>,\n",
              "    'underlying_asset_id': UUID('b0b6dd9d-8b9b-48a9-ba46-b9d54906e415'),\n",
              "    'underlying_symbol': 'AAPL'}"
            ]
          },
          "metadata": {},
          "execution_count": 69
        }
      ],
      "source": [
        "# get options contract by symbol\n",
        "# - get_option_contract() is a new method to get options contract by symbol or id\n",
        "symbol = res.option_contracts[0].symbol\n",
        "contract = trade_client.get_option_contract(symbol)\n",
        "contract"
      ]
    },
    {
      "cell_type": "code",
      "execution_count": 70,
      "metadata": {
        "colab": {
          "base_uri": "https://localhost:8080/"
        },
        "id": "ADTLMuQ3pCmx",
        "outputId": "b77c0673-6391-49b1-bd84-ae7d5e1f576a"
      },
      "outputs": [
        {
          "output_type": "execute_result",
          "data": {
            "text/plain": [
              "{   'close_price': None,\n",
              "    'close_price_date': None,\n",
              "    'expiration_date': datetime.date(2025, 7, 11),\n",
              "    'id': '902cd67e-bbe8-4fb7-a0cb-05c7bea5caae',\n",
              "    'name': 'AAPL Jul 11 2025 125 Call',\n",
              "    'open_interest': None,\n",
              "    'open_interest_date': None,\n",
              "    'root_symbol': 'AAPL',\n",
              "    'size': '100',\n",
              "    'status': <AssetStatus.ACTIVE: 'active'>,\n",
              "    'strike_price': 125.0,\n",
              "    'style': <ExerciseStyle.AMERICAN: 'american'>,\n",
              "    'symbol': 'AAPL250711C00125000',\n",
              "    'tradable': True,\n",
              "    'type': <ContractType.CALL: 'call'>,\n",
              "    'underlying_asset_id': UUID('b0b6dd9d-8b9b-48a9-ba46-b9d54906e415'),\n",
              "    'underlying_symbol': 'AAPL'}"
            ]
          },
          "metadata": {},
          "execution_count": 70
        }
      ],
      "source": [
        "# get options contract by id\n",
        "id = res.option_contracts[0].id\n",
        "contract = trade_client.get_option_contract(symbol_or_id=id)\n",
        "contract"
      ]
    },
    {
      "cell_type": "code",
      "execution_count": 71,
      "metadata": {
        "colab": {
          "base_uri": "https://localhost:8080/"
        },
        "id": "MMW_MNgmpCmx",
        "outputId": "b55d506c-39c7-4349-f04a-11b24dce06b7"
      },
      "outputs": [
        {
          "output_type": "execute_result",
          "data": {
            "text/plain": [
              "[{   'close_price': '0.02',\n",
              "     'close_price_date': datetime.date(2025, 7, 3),\n",
              "     'expiration_date': datetime.date(2025, 7, 14),\n",
              "     'id': '9e2c0b07-be2e-4a31-b449-8a92a0c56381',\n",
              "     'name': 'SPY Jul 14 2025 450 Put',\n",
              "     'open_interest': '7',\n",
              "     'open_interest_date': datetime.date(2025, 7, 9),\n",
              "     'root_symbol': 'SPY',\n",
              "     'size': '100',\n",
              "     'status': <AssetStatus.ACTIVE: 'active'>,\n",
              "     'strike_price': 450.0,\n",
              "     'style': <ExerciseStyle.AMERICAN: 'american'>,\n",
              "     'symbol': 'SPY250714P00450000',\n",
              "     'tradable': True,\n",
              "     'type': <ContractType.PUT: 'put'>,\n",
              "     'underlying_asset_id': UUID('b28f4066-5c6d-479b-a2af-85dc1a8f16fb'),\n",
              "     'underlying_symbol': 'SPY'},\n",
              " {   'close_price': '0.01',\n",
              "     'close_price_date': datetime.date(2025, 7, 3),\n",
              "     'expiration_date': datetime.date(2025, 7, 14),\n",
              "     'id': '0ccb86be-c86b-4b1b-8dfa-ab5e56eb7e74',\n",
              "     'name': 'SPY Jul 14 2025 455 Put',\n",
              "     'open_interest': '314',\n",
              "     'open_interest_date': datetime.date(2025, 7, 9),\n",
              "     'root_symbol': 'SPY',\n",
              "     'size': '100',\n",
              "     'status': <AssetStatus.ACTIVE: 'active'>,\n",
              "     'strike_price': 455.0,\n",
              "     'style': <ExerciseStyle.AMERICAN: 'american'>,\n",
              "     'symbol': 'SPY250714P00455000',\n",
              "     'tradable': True,\n",
              "     'type': <ContractType.PUT: 'put'>,\n",
              "     'underlying_asset_id': UUID('b28f4066-5c6d-479b-a2af-85dc1a8f16fb'),\n",
              "     'underlying_symbol': 'SPY'}]"
            ]
          },
          "metadata": {},
          "execution_count": 71
        }
      ],
      "source": [
        "# get put options contracts\n",
        "underlying_symbols = [\"SPY\"]\n",
        "\n",
        "# specify expiration date range\n",
        "now = datetime.now(tz = ZoneInfo(\"America/New_York\"))\n",
        "day1 = now + timedelta(days = 1)\n",
        "day60 = now + timedelta(days = 60)\n",
        "\n",
        "req = GetOptionContractsRequest(\n",
        "    underlying_symbols = underlying_symbols,                     # specify underlying symbols\n",
        "    status = AssetStatus.ACTIVE,                                 # specify asset status: active (default)\n",
        "    expiration_date = None,                                      # specify expiration date (specified date + 1 day range)\n",
        "    expiration_date_gte = day1.date(),                           # we can pass date object\n",
        "    expiration_date_lte = day60.strftime(format = \"%Y-%m-%d\"),   # or string\n",
        "    root_symbol = None,                                          # specify root symbol\n",
        "    type = \"put\",                                                # specify option type: put\n",
        "    style = ExerciseStyle.AMERICAN,                              # specify option style: american\n",
        "    strike_price_gte = None,                                     # specify strike price range\n",
        "    strike_price_lte = None,                                     # specify strike price range\n",
        "    limit = 100,                                                 # specify limit\n",
        "    page_token = None,                                           # specify page\n",
        ")\n",
        "res = trade_client.get_option_contracts(req)\n",
        "res.option_contracts[:2]"
      ]
    },
    {
      "cell_type": "code",
      "execution_count": 72,
      "metadata": {
        "colab": {
          "base_uri": "https://localhost:8080/"
        },
        "id": "mGOKodZcpCmy",
        "outputId": "23b0ef9f-ab18-44f2-fe43-7a9f28bec74e"
      },
      "outputs": [
        {
          "output_type": "execute_result",
          "data": {
            "text/plain": [
              "{   'close_price': '0.05',\n",
              "    'close_price_date': datetime.date(2025, 7, 10),\n",
              "    'expiration_date': datetime.date(2025, 7, 14),\n",
              "    'id': '9f2f4b36-06a1-4a8f-9e5e-d82dd317b66d',\n",
              "    'name': 'SPY Jul 14 2025 605 Put',\n",
              "    'open_interest': '9265',\n",
              "    'open_interest_date': datetime.date(2025, 7, 9),\n",
              "    'root_symbol': 'SPY',\n",
              "    'size': '100',\n",
              "    'status': <AssetStatus.ACTIVE: 'active'>,\n",
              "    'strike_price': 605.0,\n",
              "    'style': <ExerciseStyle.AMERICAN: 'american'>,\n",
              "    'symbol': 'SPY250714P00605000',\n",
              "    'tradable': True,\n",
              "    'type': <ContractType.PUT: 'put'>,\n",
              "    'underlying_asset_id': UUID('b28f4066-5c6d-479b-a2af-85dc1a8f16fb'),\n",
              "    'underlying_symbol': 'SPY'}"
            ]
          },
          "metadata": {},
          "execution_count": 72
        }
      ],
      "source": [
        "# get high open_interest contract\n",
        "open_interest = 0\n",
        "high_open_interest_contract = None\n",
        "for contract in res.option_contracts:\n",
        "    if (contract.open_interest is not None) and (int(contract.open_interest) > open_interest):\n",
        "        open_interest = int(contract.open_interest)\n",
        "        high_open_interest_contract = contract\n",
        "high_open_interest_contract"
      ]
    },
    {
      "cell_type": "code",
      "execution_count": 73,
      "metadata": {
        "colab": {
          "base_uri": "https://localhost:8080/"
        },
        "id": "SGkURGgwpCmy",
        "outputId": "a2e23906-938a-4315-db07-7fcd423f3e92"
      },
      "outputs": [
        {
          "output_type": "execute_result",
          "data": {
            "text/plain": [
              "{   'asset_class': <AssetClass.US_OPTION: 'us_option'>,\n",
              "    'asset_id': UUID('9f2f4b36-06a1-4a8f-9e5e-d82dd317b66d'),\n",
              "    'canceled_at': None,\n",
              "    'client_order_id': '92a037a8-4412-423e-aee9-81df54db1b6e',\n",
              "    'created_at': datetime.datetime(2025, 7, 11, 18, 33, 18, 313612, tzinfo=TzInfo(UTC)),\n",
              "    'expired_at': None,\n",
              "    'expires_at': datetime.datetime(2025, 7, 11, 20, 15, tzinfo=TzInfo(UTC)),\n",
              "    'extended_hours': False,\n",
              "    'failed_at': None,\n",
              "    'filled_at': None,\n",
              "    'filled_avg_price': None,\n",
              "    'filled_qty': '0',\n",
              "    'hwm': None,\n",
              "    'id': UUID('b51bda15-d624-4ff8-b5e7-1785a2678e4b'),\n",
              "    'legs': None,\n",
              "    'limit_price': None,\n",
              "    'notional': None,\n",
              "    'order_class': <OrderClass.SIMPLE: 'simple'>,\n",
              "    'order_type': <OrderType.MARKET: 'market'>,\n",
              "    'position_intent': <PositionIntent.BUY_TO_OPEN: 'buy_to_open'>,\n",
              "    'qty': '1',\n",
              "    'ratio_qty': None,\n",
              "    'replaced_at': None,\n",
              "    'replaced_by': None,\n",
              "    'replaces': None,\n",
              "    'side': <OrderSide.BUY: 'buy'>,\n",
              "    'status': <OrderStatus.PENDING_NEW: 'pending_new'>,\n",
              "    'stop_price': None,\n",
              "    'submitted_at': datetime.datetime(2025, 7, 11, 18, 33, 18, 311459, tzinfo=TzInfo(UTC)),\n",
              "    'symbol': 'SPY250714P00605000',\n",
              "    'time_in_force': <TimeInForce.DAY: 'day'>,\n",
              "    'trail_percent': None,\n",
              "    'trail_price': None,\n",
              "    'type': <OrderType.MARKET: 'market'>,\n",
              "    'updated_at': datetime.datetime(2025, 7, 11, 18, 33, 18, 313668, tzinfo=TzInfo(UTC))}"
            ]
          },
          "metadata": {},
          "execution_count": 73
        }
      ],
      "source": [
        "# place buy put option order\n",
        "# - we can place buy put option order same as buy stock/crypto order\n",
        "req = MarketOrderRequest(\n",
        "    symbol = high_open_interest_contract.symbol,\n",
        "    qty = 1,\n",
        "    side = OrderSide.BUY,\n",
        "    type = OrderType.MARKET,\n",
        "    time_in_force = TimeInForce.DAY,\n",
        ")\n",
        "res = trade_client.submit_order(req)\n",
        "res"
      ]
    },
    {
      "cell_type": "code",
      "execution_count": 74,
      "metadata": {
        "colab": {
          "base_uri": "https://localhost:8080/"
        },
        "id": "h1a83o87pCmy",
        "outputId": "4c41b7ec-3d22-42ce-bd30-7111f5864cba"
      },
      "outputs": [
        {
          "output_type": "execute_result",
          "data": {
            "text/plain": [
              "[{   'asset_class': <AssetClass.US_OPTION: 'us_option'>,\n",
              "     'asset_id': UUID('9f2f4b36-06a1-4a8f-9e5e-d82dd317b66d'),\n",
              "     'canceled_at': None,\n",
              "     'client_order_id': '92a037a8-4412-423e-aee9-81df54db1b6e',\n",
              "     'created_at': datetime.datetime(2025, 7, 11, 18, 33, 18, 313612, tzinfo=TzInfo(UTC)),\n",
              "     'expired_at': None,\n",
              "     'expires_at': datetime.datetime(2025, 7, 11, 20, 15, tzinfo=TzInfo(UTC)),\n",
              "     'extended_hours': False,\n",
              "     'failed_at': None,\n",
              "     'filled_at': None,\n",
              "     'filled_avg_price': None,\n",
              "     'filled_qty': '0',\n",
              "     'hwm': None,\n",
              "     'id': UUID('b51bda15-d624-4ff8-b5e7-1785a2678e4b'),\n",
              "     'legs': None,\n",
              "     'limit_price': None,\n",
              "     'notional': None,\n",
              "     'order_class': <OrderClass.SIMPLE: 'simple'>,\n",
              "     'order_type': <OrderType.MARKET: 'market'>,\n",
              "     'position_intent': <PositionIntent.BUY_TO_OPEN: 'buy_to_open'>,\n",
              "     'qty': '1',\n",
              "     'ratio_qty': None,\n",
              "     'replaced_at': None,\n",
              "     'replaced_by': None,\n",
              "     'replaces': None,\n",
              "     'side': <OrderSide.BUY: 'buy'>,\n",
              "     'status': <OrderStatus.NEW: 'new'>,\n",
              "     'stop_price': None,\n",
              "     'submitted_at': datetime.datetime(2025, 7, 11, 18, 33, 18, 317630, tzinfo=TzInfo(UTC)),\n",
              "     'symbol': 'SPY250714P00605000',\n",
              "     'time_in_force': <TimeInForce.DAY: 'day'>,\n",
              "     'trail_percent': None,\n",
              "     'trail_price': None,\n",
              "     'type': <OrderType.MARKET: 'market'>,\n",
              "     'updated_at': datetime.datetime(2025, 7, 11, 18, 33, 18, 319650, tzinfo=TzInfo(UTC))},\n",
              " {   'asset_class': <AssetClass.US_OPTION: 'us_option'>,\n",
              "     'asset_id': UUID('9f2f4b36-06a1-4a8f-9e5e-d82dd317b66d'),\n",
              "     'canceled_at': None,\n",
              "     'client_order_id': '8cb11d5b-a197-459c-985a-f32f844b0675',\n",
              "     'created_at': datetime.datetime(2025, 7, 11, 18, 33, 3, 967570, tzinfo=TzInfo(UTC)),\n",
              "     'expired_at': None,\n",
              "     'expires_at': datetime.datetime(2025, 7, 11, 20, 15, tzinfo=TzInfo(UTC)),\n",
              "     'extended_hours': False,\n",
              "     'failed_at': None,\n",
              "     'filled_at': datetime.datetime(2025, 7, 11, 18, 33, 4, 300367, tzinfo=TzInfo(UTC)),\n",
              "     'filled_avg_price': '0.06',\n",
              "     'filled_qty': '1',\n",
              "     'hwm': None,\n",
              "     'id': UUID('a217622f-bce2-4ae3-a28c-59e94894f144'),\n",
              "     'legs': None,\n",
              "     'limit_price': None,\n",
              "     'notional': None,\n",
              "     'order_class': <OrderClass.SIMPLE: 'simple'>,\n",
              "     'order_type': <OrderType.MARKET: 'market'>,\n",
              "     'position_intent': <PositionIntent.BUY_TO_OPEN: 'buy_to_open'>,\n",
              "     'qty': '1',\n",
              "     'ratio_qty': None,\n",
              "     'replaced_at': None,\n",
              "     'replaced_by': None,\n",
              "     'replaces': None,\n",
              "     'side': <OrderSide.BUY: 'buy'>,\n",
              "     'status': <OrderStatus.FILLED: 'filled'>,\n",
              "     'stop_price': None,\n",
              "     'submitted_at': datetime.datetime(2025, 7, 11, 18, 33, 4, 15057, tzinfo=TzInfo(UTC)),\n",
              "     'symbol': 'SPY250714P00605000',\n",
              "     'time_in_force': <TimeInForce.DAY: 'day'>,\n",
              "     'trail_percent': None,\n",
              "     'trail_price': None,\n",
              "     'type': <OrderType.MARKET: 'market'>,\n",
              "     'updated_at': datetime.datetime(2025, 7, 11, 18, 33, 4, 302472, tzinfo=TzInfo(UTC))}]"
            ]
          },
          "metadata": {},
          "execution_count": 74
        }
      ],
      "source": [
        "# get list of orders by specifying option contract symbol\n",
        "req = GetOrdersRequest(\n",
        "    status = QueryOrderStatus.ALL,\n",
        "    symbols = [high_open_interest_contract.symbol],\n",
        "    limit = 2,\n",
        ")\n",
        "orders = trade_client.get_orders(req)\n",
        "orders"
      ]
    },
    {
      "cell_type": "code",
      "execution_count": 75,
      "metadata": {
        "colab": {
          "base_uri": "https://localhost:8080/"
        },
        "id": "xeBJWG3gpCmy",
        "outputId": "b64ba282-f94d-432f-be86-30b7570087aa"
      },
      "outputs": [
        {
          "output_type": "execute_result",
          "data": {
            "text/plain": [
              "[{   'asset_class': <AssetClass.US_OPTION: 'us_option'>,\n",
              "     'asset_id': UUID('9f2f4b36-06a1-4a8f-9e5e-d82dd317b66d'),\n",
              "     'asset_marginable': True,\n",
              "     'avg_entry_price': '0.06',\n",
              "     'avg_entry_swap_rate': None,\n",
              "     'change_today': '0',\n",
              "     'cost_basis': '6',\n",
              "     'current_price': '0.05',\n",
              "     'exchange': <AssetExchange.EMPTY: ''>,\n",
              "     'lastday_price': '0.05',\n",
              "     'market_value': '5',\n",
              "     'qty': '1',\n",
              "     'qty_available': '1',\n",
              "     'side': <PositionSide.LONG: 'long'>,\n",
              "     'swap_rate': None,\n",
              "     'symbol': 'SPY250714P00605000',\n",
              "     'unrealized_intraday_pl': '-1',\n",
              "     'unrealized_intraday_plpc': '-0.1666666666666667',\n",
              "     'unrealized_pl': '-1',\n",
              "     'unrealized_plpc': '-0.1666666666666667',\n",
              "     'usd': None}]"
            ]
          },
          "metadata": {},
          "execution_count": 75
        }
      ],
      "source": [
        "# below cells should be done after market open otherwise there is no position for the option contract\n",
        "\n",
        "# get positions filtered by option contract symbol\n",
        "# if you do this example outside of market hours, you will see empty list\n",
        "# because we have no position in this option contract\n",
        "# please wait market open and run this example again\n",
        "positions = trade_client.get_all_positions()\n",
        "[pos for pos in positions if pos.symbol == high_open_interest_contract.symbol]"
      ]
    },
    {
      "cell_type": "code",
      "execution_count": 76,
      "metadata": {
        "colab": {
          "base_uri": "https://localhost:8080/"
        },
        "id": "KeTzcge1pCmy",
        "outputId": "ba359c70-f38a-483b-97cc-92995f2c5ce3"
      },
      "outputs": [
        {
          "output_type": "execute_result",
          "data": {
            "text/plain": [
              "{   'asset_class': <AssetClass.US_OPTION: 'us_option'>,\n",
              "    'asset_id': UUID('9f2f4b36-06a1-4a8f-9e5e-d82dd317b66d'),\n",
              "    'asset_marginable': True,\n",
              "    'avg_entry_price': '0.06',\n",
              "    'avg_entry_swap_rate': None,\n",
              "    'change_today': '0',\n",
              "    'cost_basis': '6',\n",
              "    'current_price': '0.05',\n",
              "    'exchange': <AssetExchange.EMPTY: ''>,\n",
              "    'lastday_price': '0.05',\n",
              "    'market_value': '5',\n",
              "    'qty': '1',\n",
              "    'qty_available': '1',\n",
              "    'side': <PositionSide.LONG: 'long'>,\n",
              "    'swap_rate': None,\n",
              "    'symbol': 'SPY250714P00605000',\n",
              "    'unrealized_intraday_pl': '-1',\n",
              "    'unrealized_intraday_plpc': '-0.1666666666666667',\n",
              "    'unrealized_pl': '-1',\n",
              "    'unrealized_plpc': '-0.1666666666666667',\n",
              "    'usd': None}"
            ]
          },
          "metadata": {},
          "execution_count": 76
        }
      ],
      "source": [
        "# get positions by symbol\n",
        "trade_client.get_open_position(symbol_or_asset_id=high_open_interest_contract.symbol)\n"
      ]
    },
    {
      "cell_type": "code",
      "execution_count": 77,
      "metadata": {
        "colab": {
          "base_uri": "https://localhost:8080/"
        },
        "id": "HYzd-ttOpCmy",
        "outputId": "6d267aeb-2eec-45c0-cc67-d7fc0a43346b"
      },
      "outputs": [
        {
          "output_type": "execute_result",
          "data": {
            "text/plain": [
              "{   'asset_class': <AssetClass.US_OPTION: 'us_option'>,\n",
              "    'asset_id': UUID('9f2f4b36-06a1-4a8f-9e5e-d82dd317b66d'),\n",
              "    'asset_marginable': True,\n",
              "    'avg_entry_price': '0.06',\n",
              "    'avg_entry_swap_rate': None,\n",
              "    'change_today': '0',\n",
              "    'cost_basis': '12',\n",
              "    'current_price': '0.05',\n",
              "    'exchange': <AssetExchange.EMPTY: ''>,\n",
              "    'lastday_price': '0.05',\n",
              "    'market_value': '10',\n",
              "    'qty': '2',\n",
              "    'qty_available': '2',\n",
              "    'side': <PositionSide.LONG: 'long'>,\n",
              "    'swap_rate': None,\n",
              "    'symbol': 'SPY250714P00605000',\n",
              "    'unrealized_intraday_pl': '-2',\n",
              "    'unrealized_intraday_plpc': '-0.1666666666666667',\n",
              "    'unrealized_pl': '-2',\n",
              "    'unrealized_plpc': '-0.1666666666666667',\n",
              "    'usd': None}"
            ]
          },
          "metadata": {},
          "execution_count": 77
        }
      ],
      "source": [
        "# get positions by contract id\n",
        "trade_client.get_open_position(symbol_or_asset_id = high_open_interest_contract.id)"
      ]
    },
    {
      "cell_type": "code",
      "execution_count": 78,
      "metadata": {
        "colab": {
          "base_uri": "https://localhost:8080/"
        },
        "id": "nbtDCaTzpCmz",
        "outputId": "752a01b1-6e5c-421b-8539-a6c8203890d3"
      },
      "outputs": [
        {
          "output_type": "execute_result",
          "data": {
            "text/plain": [
              "{   'asset_class': <AssetClass.US_OPTION: 'us_option'>,\n",
              "    'asset_id': UUID('9f2f4b36-06a1-4a8f-9e5e-d82dd317b66d'),\n",
              "    'canceled_at': None,\n",
              "    'client_order_id': '62d3b885-2b56-4a03-97b3-4303d1862ff5',\n",
              "    'created_at': datetime.datetime(2025, 7, 11, 18, 33, 18, 469342, tzinfo=TzInfo(UTC)),\n",
              "    'expired_at': None,\n",
              "    'expires_at': datetime.datetime(2025, 7, 11, 20, 15, tzinfo=TzInfo(UTC)),\n",
              "    'extended_hours': False,\n",
              "    'failed_at': None,\n",
              "    'filled_at': None,\n",
              "    'filled_avg_price': None,\n",
              "    'filled_qty': '0',\n",
              "    'hwm': None,\n",
              "    'id': UUID('d6c5ab18-b178-4320-a8e8-1260e39f93a8'),\n",
              "    'legs': None,\n",
              "    'limit_price': None,\n",
              "    'notional': None,\n",
              "    'order_class': <OrderClass.SIMPLE: 'simple'>,\n",
              "    'order_type': <OrderType.MARKET: 'market'>,\n",
              "    'position_intent': <PositionIntent.SELL_TO_CLOSE: 'sell_to_close'>,\n",
              "    'qty': '1',\n",
              "    'ratio_qty': None,\n",
              "    'replaced_at': None,\n",
              "    'replaced_by': None,\n",
              "    'replaces': None,\n",
              "    'side': <OrderSide.SELL: 'sell'>,\n",
              "    'status': <OrderStatus.PENDING_NEW: 'pending_new'>,\n",
              "    'stop_price': None,\n",
              "    'submitted_at': datetime.datetime(2025, 7, 11, 18, 33, 18, 467120, tzinfo=TzInfo(UTC)),\n",
              "    'symbol': 'SPY250714P00605000',\n",
              "    'time_in_force': <TimeInForce.DAY: 'day'>,\n",
              "    'trail_percent': None,\n",
              "    'trail_price': None,\n",
              "    'type': <OrderType.MARKET: 'market'>,\n",
              "    'updated_at': datetime.datetime(2025, 7, 11, 18, 33, 18, 469415, tzinfo=TzInfo(UTC))}"
            ]
          },
          "metadata": {},
          "execution_count": 78
        }
      ],
      "source": [
        "# close the option position\n",
        "trade_client.close_position(\n",
        "    symbol_or_asset_id = high_open_interest_contract.symbol,\n",
        "    close_options = ClosePositionRequest(qty = \"1\")\n",
        ")"
      ]
    },
    {
      "cell_type": "code",
      "execution_count": 79,
      "metadata": {
        "colab": {
          "base_uri": "https://localhost:8080/",
          "height": 408
        },
        "id": "tZVKcrBNpCmz",
        "outputId": "1057822d-1c72-4248-d7f2-45285d6e48aa"
      },
      "outputs": [
        {
          "output_type": "error",
          "ename": "APIError",
          "evalue": "{\"code\":40310000,\"message\":\"insufficient underlying qty available for deliverable: SPY (requested: 100, available: 0)\"}",
          "traceback": [
            "\u001b[0;31m---------------------------------------------------------------------------\u001b[0m",
            "\u001b[0;31mHTTPError\u001b[0m                                 Traceback (most recent call last)",
            "\u001b[0;32m/usr/local/lib/python3.11/dist-packages/alpaca/common/rest.py\u001b[0m in \u001b[0;36m_one_request\u001b[0;34m(self, method, url, opts, retry)\u001b[0m\n\u001b[1;32m    197\u001b[0m         \u001b[0;32mtry\u001b[0m\u001b[0;34m:\u001b[0m\u001b[0;34m\u001b[0m\u001b[0;34m\u001b[0m\u001b[0m\n\u001b[0;32m--> 198\u001b[0;31m             \u001b[0mresponse\u001b[0m\u001b[0;34m.\u001b[0m\u001b[0mraise_for_status\u001b[0m\u001b[0;34m(\u001b[0m\u001b[0;34m)\u001b[0m\u001b[0;34m\u001b[0m\u001b[0;34m\u001b[0m\u001b[0m\n\u001b[0m\u001b[1;32m    199\u001b[0m         \u001b[0;32mexcept\u001b[0m \u001b[0mHTTPError\u001b[0m \u001b[0;32mas\u001b[0m \u001b[0mhttp_error\u001b[0m\u001b[0;34m:\u001b[0m\u001b[0;34m\u001b[0m\u001b[0;34m\u001b[0m\u001b[0m\n",
            "\u001b[0;32m/usr/local/lib/python3.11/dist-packages/requests/models.py\u001b[0m in \u001b[0;36mraise_for_status\u001b[0;34m(self)\u001b[0m\n\u001b[1;32m   1023\u001b[0m         \u001b[0;32mif\u001b[0m \u001b[0mhttp_error_msg\u001b[0m\u001b[0;34m:\u001b[0m\u001b[0;34m\u001b[0m\u001b[0;34m\u001b[0m\u001b[0m\n\u001b[0;32m-> 1024\u001b[0;31m             \u001b[0;32mraise\u001b[0m \u001b[0mHTTPError\u001b[0m\u001b[0;34m(\u001b[0m\u001b[0mhttp_error_msg\u001b[0m\u001b[0;34m,\u001b[0m \u001b[0mresponse\u001b[0m\u001b[0;34m=\u001b[0m\u001b[0mself\u001b[0m\u001b[0;34m)\u001b[0m\u001b[0;34m\u001b[0m\u001b[0;34m\u001b[0m\u001b[0m\n\u001b[0m\u001b[1;32m   1025\u001b[0m \u001b[0;34m\u001b[0m\u001b[0m\n",
            "\u001b[0;31mHTTPError\u001b[0m: 403 Client Error: Forbidden for url: https://paper-api.alpaca.markets/v2/positions/SPY250714P00605000/exercise",
            "\nDuring handling of the above exception, another exception occurred:\n",
            "\u001b[0;31mAPIError\u001b[0m                                  Traceback (most recent call last)",
            "\u001b[0;32m/tmp/ipython-input-79-336635371.py\u001b[0m in \u001b[0;36m<cell line: 0>\u001b[0;34m()\u001b[0m\n\u001b[1;32m      1\u001b[0m \u001b[0;31m# exercise the options position\u001b[0m\u001b[0;34m\u001b[0m\u001b[0;34m\u001b[0m\u001b[0m\n\u001b[1;32m      2\u001b[0m \u001b[0;31m# - this method does not return anything\u001b[0m\u001b[0;34m\u001b[0m\u001b[0;34m\u001b[0m\u001b[0m\n\u001b[0;32m----> 3\u001b[0;31m trade_client.exercise_options_position(\n\u001b[0m\u001b[1;32m      4\u001b[0m     \u001b[0msymbol_or_contract_id\u001b[0m \u001b[0;34m=\u001b[0m \u001b[0mhigh_open_interest_contract\u001b[0m\u001b[0;34m.\u001b[0m\u001b[0msymbol\u001b[0m\u001b[0;34m\u001b[0m\u001b[0;34m\u001b[0m\u001b[0m\n\u001b[1;32m      5\u001b[0m )\n",
            "\u001b[0;32m/usr/local/lib/python3.11/dist-packages/alpaca/trading/client.py\u001b[0m in \u001b[0;36mexercise_options_position\u001b[0;34m(self, symbol_or_contract_id)\u001b[0m\n\u001b[1;32m    342\u001b[0m         \"\"\"\n\u001b[1;32m    343\u001b[0m         \u001b[0msymbol_or_contract_id\u001b[0m \u001b[0;34m=\u001b[0m \u001b[0mvalidate_symbol_or_contract_id\u001b[0m\u001b[0;34m(\u001b[0m\u001b[0msymbol_or_contract_id\u001b[0m\u001b[0;34m)\u001b[0m\u001b[0;34m\u001b[0m\u001b[0;34m\u001b[0m\u001b[0m\n\u001b[0;32m--> 344\u001b[0;31m         self.post(\n\u001b[0m\u001b[1;32m    345\u001b[0m             \u001b[0;34mf\"/positions/{symbol_or_contract_id}/exercise\"\u001b[0m\u001b[0;34m,\u001b[0m\u001b[0;34m\u001b[0m\u001b[0;34m\u001b[0m\u001b[0m\n\u001b[1;32m    346\u001b[0m         )\n",
            "\u001b[0;32m/usr/local/lib/python3.11/dist-packages/alpaca/common/rest.py\u001b[0m in \u001b[0;36mpost\u001b[0;34m(self, path, data)\u001b[0m\n\u001b[1;32m    238\u001b[0m             \u001b[0mdict\u001b[0m\u001b[0;34m:\u001b[0m \u001b[0mThe\u001b[0m \u001b[0mresponse\u001b[0m\u001b[0;34m\u001b[0m\u001b[0;34m\u001b[0m\u001b[0m\n\u001b[1;32m    239\u001b[0m         \"\"\"\n\u001b[0;32m--> 240\u001b[0;31m         \u001b[0;32mreturn\u001b[0m \u001b[0mself\u001b[0m\u001b[0;34m.\u001b[0m\u001b[0m_request\u001b[0m\u001b[0;34m(\u001b[0m\u001b[0;34m\"POST\"\u001b[0m\u001b[0;34m,\u001b[0m \u001b[0mpath\u001b[0m\u001b[0;34m,\u001b[0m \u001b[0mdata\u001b[0m\u001b[0;34m)\u001b[0m\u001b[0;34m\u001b[0m\u001b[0;34m\u001b[0m\u001b[0m\n\u001b[0m\u001b[1;32m    241\u001b[0m \u001b[0;34m\u001b[0m\u001b[0m\n\u001b[1;32m    242\u001b[0m     \u001b[0;32mdef\u001b[0m \u001b[0mput\u001b[0m\u001b[0;34m(\u001b[0m\u001b[0mself\u001b[0m\u001b[0;34m,\u001b[0m \u001b[0mpath\u001b[0m\u001b[0;34m:\u001b[0m \u001b[0mstr\u001b[0m\u001b[0;34m,\u001b[0m \u001b[0mdata\u001b[0m\u001b[0;34m:\u001b[0m \u001b[0mOptional\u001b[0m\u001b[0;34m[\u001b[0m\u001b[0mdict\u001b[0m\u001b[0;34m]\u001b[0m \u001b[0;34m=\u001b[0m \u001b[0;32mNone\u001b[0m\u001b[0;34m)\u001b[0m \u001b[0;34m->\u001b[0m \u001b[0mdict\u001b[0m\u001b[0;34m:\u001b[0m\u001b[0;34m\u001b[0m\u001b[0;34m\u001b[0m\u001b[0m\n",
            "\u001b[0;32m/usr/local/lib/python3.11/dist-packages/alpaca/common/rest.py\u001b[0m in \u001b[0;36m_request\u001b[0;34m(self, method, path, data, base_url, api_version)\u001b[0m\n\u001b[1;32m    129\u001b[0m         \u001b[0;32mwhile\u001b[0m \u001b[0mretry\u001b[0m \u001b[0;34m>=\u001b[0m \u001b[0;36m0\u001b[0m\u001b[0;34m:\u001b[0m\u001b[0;34m\u001b[0m\u001b[0;34m\u001b[0m\u001b[0m\n\u001b[1;32m    130\u001b[0m             \u001b[0;32mtry\u001b[0m\u001b[0;34m:\u001b[0m\u001b[0;34m\u001b[0m\u001b[0;34m\u001b[0m\u001b[0m\n\u001b[0;32m--> 131\u001b[0;31m                 \u001b[0;32mreturn\u001b[0m \u001b[0mself\u001b[0m\u001b[0;34m.\u001b[0m\u001b[0m_one_request\u001b[0m\u001b[0;34m(\u001b[0m\u001b[0mmethod\u001b[0m\u001b[0;34m,\u001b[0m \u001b[0murl\u001b[0m\u001b[0;34m,\u001b[0m \u001b[0mopts\u001b[0m\u001b[0;34m,\u001b[0m \u001b[0mretry\u001b[0m\u001b[0;34m)\u001b[0m\u001b[0;34m\u001b[0m\u001b[0;34m\u001b[0m\u001b[0m\n\u001b[0m\u001b[1;32m    132\u001b[0m             \u001b[0;32mexcept\u001b[0m \u001b[0mRetryException\u001b[0m\u001b[0;34m:\u001b[0m\u001b[0;34m\u001b[0m\u001b[0;34m\u001b[0m\u001b[0m\n\u001b[1;32m    133\u001b[0m                 \u001b[0mtime\u001b[0m\u001b[0;34m.\u001b[0m\u001b[0msleep\u001b[0m\u001b[0;34m(\u001b[0m\u001b[0mself\u001b[0m\u001b[0;34m.\u001b[0m\u001b[0m_retry_wait\u001b[0m\u001b[0;34m)\u001b[0m\u001b[0;34m\u001b[0m\u001b[0;34m\u001b[0m\u001b[0m\n",
            "\u001b[0;32m/usr/local/lib/python3.11/dist-packages/alpaca/common/rest.py\u001b[0m in \u001b[0;36m_one_request\u001b[0;34m(self, method, url, opts, retry)\u001b[0m\n\u001b[1;32m    205\u001b[0m             \u001b[0merror\u001b[0m \u001b[0;34m=\u001b[0m \u001b[0mresponse\u001b[0m\u001b[0;34m.\u001b[0m\u001b[0mtext\u001b[0m\u001b[0;34m\u001b[0m\u001b[0;34m\u001b[0m\u001b[0m\n\u001b[1;32m    206\u001b[0m \u001b[0;34m\u001b[0m\u001b[0m\n\u001b[0;32m--> 207\u001b[0;31m             \u001b[0;32mraise\u001b[0m \u001b[0mAPIError\u001b[0m\u001b[0;34m(\u001b[0m\u001b[0merror\u001b[0m\u001b[0;34m,\u001b[0m \u001b[0mhttp_error\u001b[0m\u001b[0;34m)\u001b[0m\u001b[0;34m\u001b[0m\u001b[0;34m\u001b[0m\u001b[0m\n\u001b[0m\u001b[1;32m    208\u001b[0m \u001b[0;34m\u001b[0m\u001b[0m\n\u001b[1;32m    209\u001b[0m         \u001b[0;32mif\u001b[0m \u001b[0mresponse\u001b[0m\u001b[0;34m.\u001b[0m\u001b[0mtext\u001b[0m \u001b[0;34m!=\u001b[0m \u001b[0;34m\"\"\u001b[0m\u001b[0;34m:\u001b[0m\u001b[0;34m\u001b[0m\u001b[0;34m\u001b[0m\u001b[0m\n",
            "\u001b[0;31mAPIError\u001b[0m: {\"code\":40310000,\"message\":\"insufficient underlying qty available for deliverable: SPY (requested: 100, available: 0)\"}"
          ]
        }
      ],
      "source": [
        "# exercise the options position\n",
        "# - this method does not return anything\n",
        "trade_client.exercise_options_position(\n",
        "    symbol_or_contract_id = high_open_interest_contract.symbol\n",
        ")"
      ]
    },
    {
      "cell_type": "markdown",
      "metadata": {
        "id": "XXV9QjJqpCmz"
      },
      "source": [
        "# Trade Update (Stream)"
      ]
    },
    {
      "cell_type": "markdown",
      "metadata": {
        "id": "2m0fjdXdpCmz"
      },
      "source": [
        "With TradingStream client, you can get updates about trades\n",
        "\n",
        "fyi. you can open this notebook in another window and run below cell to check trade updates."
      ]
    },
    {
      "cell_type": "code",
      "execution_count": null,
      "metadata": {
        "id": "ylVC_xXVpCmz"
      },
      "outputs": [],
      "source": [
        "# subscribe trade updates\n",
        "trade_stream_client = TradingStream(api_key, secret_key, paper=paper, url_override = trade_api_wss)\n",
        "\n",
        "async def trade_updates_handler(data):\n",
        "    print(data)\n",
        "\n",
        "trade_stream_client.subscribe_trade_updates(trade_updates_handler)\n",
        "trade_stream_client.run()"
      ]
    },
    {
      "cell_type": "markdown",
      "metadata": {
        "id": "_00_B_2JpCmz"
      },
      "source": [
        "# Market Data (Historical)"
      ]
    },
    {
      "cell_type": "code",
      "execution_count": null,
      "metadata": {
        "id": "zmKYEHoIpCmz"
      },
      "outputs": [],
      "source": [
        "# setup option historical data client\n",
        "option_historical_data_client = OptionHistoricalDataClient(api_key, secret_key, url_override = data_api_url)"
      ]
    },
    {
      "cell_type": "code",
      "execution_count": null,
      "metadata": {
        "id": "1qvj6lenpCmz"
      },
      "outputs": [],
      "source": [
        "# get options historical bars by symbol\n",
        "req = OptionBarsRequest(\n",
        "    symbol_or_symbols = high_open_interest_contract.symbol,\n",
        "    timeframe = TimeFrame(amount = 1, unit = TimeFrameUnit.Hour),   # specify timeframe\n",
        "    start = now - timedelta(days = 5),                              # specify start datetime, default=the beginning of the current day.\n",
        "    # end_date=None,                                                # specify end datetime, default=now\n",
        "    limit = 2,                                                      # specify limit\n",
        ")\n",
        "option_historical_data_client.get_option_bars(req).df"
      ]
    },
    {
      "cell_type": "code",
      "execution_count": null,
      "metadata": {
        "id": "VxQkAU1vpCmz"
      },
      "outputs": [],
      "source": [
        "# get options historical trades by symbol\n",
        "req = OptionTradesRequest(\n",
        "    symbol_or_symbols = high_open_interest_contract.symbol,\n",
        "    start = now - timedelta(days = 5),                              # specify start datetime, default=the beginning of the current day.\n",
        "    # end=None,                                                     # specify end datetime, default=now\n",
        "    limit = 2,                                                      # specify limit\n",
        ")\n",
        "option_historical_data_client.get_option_trades(req).df"
      ]
    },
    {
      "cell_type": "code",
      "execution_count": null,
      "metadata": {
        "id": "3p7EIXTfpCm0"
      },
      "outputs": [],
      "source": [
        "# get options exchange codes\n",
        "option_historical_data_client.get_option_exchange_codes()"
      ]
    },
    {
      "cell_type": "code",
      "execution_count": null,
      "metadata": {
        "id": "O5k8GpbspCm0"
      },
      "outputs": [],
      "source": [
        "# get option latest quote by symbol\n",
        "req = OptionLatestQuoteRequest(\n",
        "    symbol_or_symbols = [high_open_interest_contract.symbol],\n",
        ")\n",
        "option_historical_data_client.get_option_latest_quote(req)"
      ]
    },
    {
      "cell_type": "code",
      "execution_count": null,
      "metadata": {
        "id": "1sIsjn6WpCm0"
      },
      "outputs": [],
      "source": [
        "# get option latest trade by symbol\n",
        "req = OptionLatestTradeRequest(\n",
        "    symbol_or_symbols = [high_open_interest_contract.symbol],\n",
        ")\n",
        "option_historical_data_client.get_option_latest_trade(req)"
      ]
    },
    {
      "cell_type": "code",
      "execution_count": null,
      "metadata": {
        "id": "cVVbc8X9pCm0"
      },
      "outputs": [],
      "source": [
        "# get option snapshot by symbol\n",
        "req = OptionSnapshotRequest(\n",
        "    symbol_or_symbols = [high_open_interest_contract.symbol],\n",
        ")\n",
        "option_historical_data_client.get_option_snapshot(req)"
      ]
    },
    {
      "cell_type": "code",
      "execution_count": null,
      "metadata": {
        "id": "2oFcWybGpCm0"
      },
      "outputs": [],
      "source": [
        "# get option chain by underlying_symbol\n",
        "req = OptionChainRequest(\n",
        "    underlying_symbol = high_open_interest_contract.underlying_symbol,\n",
        ")\n",
        "option_historical_data_client.get_option_chain(req)"
      ]
    },
    {
      "cell_type": "markdown",
      "metadata": {
        "id": "eahc8jhtpCm3"
      },
      "source": [
        "# Market Data (Stream)"
      ]
    },
    {
      "cell_type": "code",
      "execution_count": null,
      "metadata": {
        "id": "oSU9vQllpCm3"
      },
      "outputs": [],
      "source": [
        "option_data_stream_client = OptionDataStream(api_key, secret_key, url_override = option_stream_data_wss)\n",
        "\n",
        "async def option_data_stream_handler(data):\n",
        "    print(data)\n",
        "\n",
        "symbols = [\n",
        "    high_open_interest_contract.symbol,\n",
        "]\n",
        "\n",
        "option_data_stream_client.subscribe_quotes(option_data_stream_handler, *symbols)\n",
        "option_data_stream_client.subscribe_trades(option_data_stream_handler, *symbols)\n",
        "\n",
        "option_data_stream_client.run()"
      ]
    }
  ],
  "metadata": {
    "kernelspec": {
      "display_name": ".venv",
      "language": "python",
      "name": "python3"
    },
    "language_info": {
      "codemirror_mode": {
        "name": "ipython",
        "version": 3
      },
      "file_extension": ".py",
      "mimetype": "text/x-python",
      "name": "python",
      "nbconvert_exporter": "python",
      "pygments_lexer": "ipython3",
      "version": "3.12.2"
    },
    "colab": {
      "provenance": []
    }
  },
  "nbformat": 4,
  "nbformat_minor": 0
}